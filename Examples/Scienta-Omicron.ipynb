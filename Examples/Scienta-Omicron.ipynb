{
 "cells": [
  {
   "cell_type": "markdown",
   "id": "f9577d23-adc2-4b1a-a3af-6f17abb74ca7",
   "metadata": {},
   "source": [
    "# Example 1: Scienta Omicron Matrix\n",
    "\n",
    "The Scienta Omicron Matrix system can be worked on live, or in post as .mtrx files. I (Grant) do not have any files on my disk, so I cannot check if parsing is trivial in raw python (think parsing a text file). For this reason I suggest a parser for the time being. We have a few options:\n",
    "1. [access2theMatrix](https://pypi.org/project/access2theMatrix/) - the simpler option to just load in .mtrx traces as a matrix. Great if you have scans you want to bulk process.\n",
    "2. [nOmicron](https://github.com/NottsNano/nOmicron) - the more sophisticated option, intended for live analysis during experimentation. Also acts as a wrapper to MATE such that the instrument can be operated using code as well. Great if you want to visualize scans as they happen.\n",
    "\n",
    "For the time being, I will simply show how to parse a .mtrx, preview it, and save it as a .gwy"
   ]
  },
  {
   "cell_type": "code",
   "execution_count": null,
   "id": "3984fae4",
   "metadata": {},
   "outputs": [],
   "source": [
    "import access2thematrix"
   ]
  },
  {
   "cell_type": "code",
   "execution_count": null,
   "id": "cee08f45-6f75-42f7-84ce-1748c05a2a6b",
   "metadata": {},
   "outputs": [],
   "source": [
    "mtrx_data = access2thematrix.MtrxData()\n",
    "data_file = r'path/to.mtrx'\n",
    "traces, message = mtrx_data.open(data_file)\n",
    "traces"
   ]
  },
  {
   "cell_type": "code",
   "execution_count": null,
   "id": "2a0d094a",
   "metadata": {},
   "outputs": [],
   "source": [
    "im, message = mtrx_data.select_image(traces[0])"
   ]
  },
  {
   "cell_type": "code",
   "execution_count": null,
   "id": "68b43773-a570-438b-9b14-cc4df58df8d0",
   "metadata": {},
   "outputs": [],
   "source": [
    "im.data\n",
    "im.data.shape\n",
    "im.angle\n",
    "im.height\n",
    "im.width\n",
    "im.x_offset\n",
    "im.y_offset"
   ]
  },
  {
   "cell_type": "markdown",
   "id": "b2c4ddb8-bbc3-443c-903b-bb53a6008ac4",
   "metadata": {},
   "source": [
    "## Visualizing the Data\n",
    "\n",
    "Now that we have the data as a collection of python objects, we can very easily turn them into an image with matplotlib (or your favorite plotting tool):"
   ]
  },
  {
   "cell_type": "markdown",
   "id": "25f5de10-223c-46e2-ba14-71018300f194",
   "metadata": {},
   "source": [
    "## Exporting in another format\n",
    "\n",
    "Getting the file away from the proprietary .mtrx type to something such as a .gwy file or .h5 file is a fantastic idea, as these open source formats are widely supported and can be manipulated with other libraries. Doing so is quite easy, and we will now see how to do so for gwyddion."
   ]
  },
  {
   "cell_type": "code",
   "execution_count": null,
   "id": "0d2c2dee-ec7d-47d0-8782-f9702643cccc",
   "metadata": {},
   "outputs": [],
   "source": [
    "import numpy as np\n",
    "from gwyfile.objects import GwyContainer, GwyDataField"
   ]
  },
  {
   "cell_type": "code",
   "execution_count": null,
   "id": "17e9ee21-b935-4243-94bb-70a7a8fc6ad3",
   "metadata": {},
   "outputs": [],
   "source": [
    "obj = GwyContainer()\n",
    "obj['/0/data/title'] = 'Noise'\n",
    "data = np.random.normal(size=(256, 256))\n",
    "obj['/0/data'] = GwyDataField(data)\n",
    "obj.tofile('noise.gwy')"
   ]
  }
 ],
 "metadata": {
  "kernelspec": {
   "display_name": "Python 3 (ipykernel)",
   "language": "python",
   "name": "python3"
  },
  "language_info": {
   "codemirror_mode": {
    "name": "ipython",
    "version": 3
   },
   "file_extension": ".py",
   "mimetype": "text/x-python",
   "name": "python",
   "nbconvert_exporter": "python",
   "pygments_lexer": "ipython3",
   "version": "3.12.4"
  }
 },
 "nbformat": 4,
 "nbformat_minor": 5
}
