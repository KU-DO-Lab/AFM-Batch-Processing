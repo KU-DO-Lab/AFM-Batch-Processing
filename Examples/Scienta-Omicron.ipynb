{
 "cells": [
  {
   "cell_type": "code",
   "execution_count": null,
   "id": "3984fae4",
   "metadata": {},
   "outputs": [],
   "source": [
    "import access2thematrix\n",
    "\n",
    "mtrx_data = access2thematrix.MtrxData()\n",
    "data_file = r'path/to.mtrx'\n",
    "traces, message = mtrx_data.open(data_file)\n",
    "traces"
   ]
  },
  {
   "cell_type": "code",
   "execution_count": null,
   "id": "2a0d094a",
   "metadata": {},
   "outputs": [],
   "source": [
    "im, message = mtrx_data.select_image(traces[0])"
   ]
  },
  {
   "cell_type": "code",
   "execution_count": null,
   "id": "fa7854c3",
   "metadata": {
    "lines_to_next_cell": 2
   },
   "outputs": [],
   "source": []
  }
 ],
 "metadata": {
  "kernelspec": {
   "display_name": "Python 3",
   "language": "python",
   "name": "python3"
  },
  "language_info": {
   "codemirror_mode": {
    "name": "ipython",
    "version": 3
   },
   "file_extension": ".py",
   "mimetype": "text/x-python",
   "name": "python",
   "nbconvert_exporter": "python",
   "pygments_lexer": "ipython3",
   "version": "3.12.9"
  }
 },
 "nbformat": 4,
 "nbformat_minor": 5
}
